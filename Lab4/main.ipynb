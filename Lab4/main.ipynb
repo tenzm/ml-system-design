{
 "cells": [
  {
   "cell_type": "code",
   "execution_count": 104,
   "metadata": {},
   "outputs": [],
   "source": [
    "import pandas as pd\n",
    "import numpy as np"
   ]
  },
  {
   "cell_type": "code",
   "execution_count": 105,
   "metadata": {},
   "outputs": [],
   "source": [
    "df = pd.read_csv(\"./data/houses.csv\")"
   ]
  },
  {
   "cell_type": "code",
   "execution_count": 106,
   "metadata": {},
   "outputs": [
    {
     "name": "stdout",
     "output_type": "stream",
     "text": [
      "<class 'pandas.core.frame.DataFrame'>\n",
      "Index: 20433 entries, 0 to 20639\n",
      "Data columns (total 10 columns):\n",
      " #   Column              Non-Null Count  Dtype  \n",
      "---  ------              --------------  -----  \n",
      " 0   longitude           20433 non-null  float64\n",
      " 1   latitude            20433 non-null  float64\n",
      " 2   housing_median_age  20433 non-null  int64  \n",
      " 3   total_rooms         20433 non-null  int64  \n",
      " 4   total_bedrooms      20433 non-null  float64\n",
      " 5   population          20433 non-null  int64  \n",
      " 6   households          20433 non-null  int64  \n",
      " 7   median_income       20433 non-null  float64\n",
      " 8   ocean_proximity     20433 non-null  object \n",
      " 9   median_house_value  20433 non-null  int64  \n",
      "dtypes: float64(4), int64(5), object(1)\n",
      "memory usage: 1.7+ MB\n"
     ]
    }
   ],
   "source": [
    "df.dropna(inplace=True)\n",
    "df.info()"
   ]
  },
  {
   "cell_type": "code",
   "execution_count": 107,
   "metadata": {},
   "outputs": [
    {
     "data": {
      "text/html": [
       "<div>\n",
       "<style scoped>\n",
       "    .dataframe tbody tr th:only-of-type {\n",
       "        vertical-align: middle;\n",
       "    }\n",
       "\n",
       "    .dataframe tbody tr th {\n",
       "        vertical-align: top;\n",
       "    }\n",
       "\n",
       "    .dataframe thead th {\n",
       "        text-align: right;\n",
       "    }\n",
       "</style>\n",
       "<table border=\"1\" class=\"dataframe\">\n",
       "  <thead>\n",
       "    <tr style=\"text-align: right;\">\n",
       "      <th></th>\n",
       "      <th>longitude</th>\n",
       "      <th>latitude</th>\n",
       "      <th>housing_median_age</th>\n",
       "      <th>total_rooms</th>\n",
       "      <th>total_bedrooms</th>\n",
       "      <th>population</th>\n",
       "      <th>households</th>\n",
       "      <th>median_income</th>\n",
       "      <th>ocean_proximity</th>\n",
       "      <th>median_house_value</th>\n",
       "    </tr>\n",
       "  </thead>\n",
       "  <tbody>\n",
       "    <tr>\n",
       "      <th>0</th>\n",
       "      <td>-122.23</td>\n",
       "      <td>37.88</td>\n",
       "      <td>41</td>\n",
       "      <td>880</td>\n",
       "      <td>129.0</td>\n",
       "      <td>322</td>\n",
       "      <td>126</td>\n",
       "      <td>8.3252</td>\n",
       "      <td>NEAR BAY</td>\n",
       "      <td>452600</td>\n",
       "    </tr>\n",
       "    <tr>\n",
       "      <th>1</th>\n",
       "      <td>-122.22</td>\n",
       "      <td>37.86</td>\n",
       "      <td>21</td>\n",
       "      <td>7099</td>\n",
       "      <td>1106.0</td>\n",
       "      <td>2401</td>\n",
       "      <td>1138</td>\n",
       "      <td>8.3014</td>\n",
       "      <td>NEAR BAY</td>\n",
       "      <td>358500</td>\n",
       "    </tr>\n",
       "    <tr>\n",
       "      <th>2</th>\n",
       "      <td>-122.24</td>\n",
       "      <td>37.85</td>\n",
       "      <td>52</td>\n",
       "      <td>1467</td>\n",
       "      <td>190.0</td>\n",
       "      <td>496</td>\n",
       "      <td>177</td>\n",
       "      <td>7.2574</td>\n",
       "      <td>NEAR BAY</td>\n",
       "      <td>352100</td>\n",
       "    </tr>\n",
       "    <tr>\n",
       "      <th>3</th>\n",
       "      <td>-122.25</td>\n",
       "      <td>37.85</td>\n",
       "      <td>52</td>\n",
       "      <td>1274</td>\n",
       "      <td>235.0</td>\n",
       "      <td>558</td>\n",
       "      <td>219</td>\n",
       "      <td>5.6431</td>\n",
       "      <td>NEAR BAY</td>\n",
       "      <td>341300</td>\n",
       "    </tr>\n",
       "    <tr>\n",
       "      <th>4</th>\n",
       "      <td>-122.25</td>\n",
       "      <td>37.85</td>\n",
       "      <td>52</td>\n",
       "      <td>1627</td>\n",
       "      <td>280.0</td>\n",
       "      <td>565</td>\n",
       "      <td>259</td>\n",
       "      <td>3.8462</td>\n",
       "      <td>NEAR BAY</td>\n",
       "      <td>342200</td>\n",
       "    </tr>\n",
       "  </tbody>\n",
       "</table>\n",
       "</div>"
      ],
      "text/plain": [
       "   longitude  latitude  housing_median_age  total_rooms  total_bedrooms   \n",
       "0    -122.23     37.88                  41          880           129.0  \\\n",
       "1    -122.22     37.86                  21         7099          1106.0   \n",
       "2    -122.24     37.85                  52         1467           190.0   \n",
       "3    -122.25     37.85                  52         1274           235.0   \n",
       "4    -122.25     37.85                  52         1627           280.0   \n",
       "\n",
       "   population  households  median_income ocean_proximity  median_house_value  \n",
       "0         322         126         8.3252        NEAR BAY              452600  \n",
       "1        2401        1138         8.3014        NEAR BAY              358500  \n",
       "2         496         177         7.2574        NEAR BAY              352100  \n",
       "3         558         219         5.6431        NEAR BAY              341300  \n",
       "4         565         259         3.8462        NEAR BAY              342200  "
      ]
     },
     "execution_count": 107,
     "metadata": {},
     "output_type": "execute_result"
    }
   ],
   "source": [
    "df.head()"
   ]
  },
  {
   "attachments": {},
   "cell_type": "markdown",
   "metadata": {},
   "source": [
    "Работа с параметрами"
   ]
  },
  {
   "cell_type": "code",
   "execution_count": 108,
   "metadata": {},
   "outputs": [],
   "source": [
    "def distance(lat1,lon1,lat2,lon2):\n",
    "    import math\n",
    "    # Earth Radius in KM \n",
    "    R = 6371\n",
    "    dLat = math.radians(lat2-lat1);\n",
    "    dLon = math.radians(lon2-lon1);\n",
    "    lat1 = math.radians(lat1);\n",
    "    lat2 = math.radians(lat2);\n",
    "    a = math.sin(dLat/2) * math.sin(dLat/2) +  math.sin(dLon/2) * math.sin(dLon/2) * math.cos(lat1) * math.cos(lat2)\n",
    "    c = 2 * math.atan2(math.sqrt(a), math.sqrt(1-a))\n",
    "    d = R * c\n",
    "    return d"
   ]
  },
  {
   "cell_type": "code",
   "execution_count": 109,
   "metadata": {},
   "outputs": [],
   "source": [
    "\n",
    "los_angeles = (34.05224006522778, -118.24340295060638)\n",
    "san_francisco = (37.768869788439, -122.41781584327025)"
   ]
  },
  {
   "cell_type": "code",
   "execution_count": 110,
   "metadata": {},
   "outputs": [],
   "source": [
    "df['los_angeles_dist'] = df.apply(lambda x: distance(x.latitude, x.longitude, los_angeles[0], los_angeles[1]), axis=1)\n",
    "df['san_francisco_dist'] = df.apply(lambda x: distance(x.latitude, x.longitude, san_francisco[0], san_francisco[1]), axis=1)"
   ]
  },
  {
   "cell_type": "code",
   "execution_count": 111,
   "metadata": {},
   "outputs": [
    {
     "data": {
      "text/html": [
       "<div>\n",
       "<style scoped>\n",
       "    .dataframe tbody tr th:only-of-type {\n",
       "        vertical-align: middle;\n",
       "    }\n",
       "\n",
       "    .dataframe tbody tr th {\n",
       "        vertical-align: top;\n",
       "    }\n",
       "\n",
       "    .dataframe thead th {\n",
       "        text-align: right;\n",
       "    }\n",
       "</style>\n",
       "<table border=\"1\" class=\"dataframe\">\n",
       "  <thead>\n",
       "    <tr style=\"text-align: right;\">\n",
       "      <th></th>\n",
       "      <th>longitude</th>\n",
       "      <th>latitude</th>\n",
       "      <th>housing_median_age</th>\n",
       "      <th>total_rooms</th>\n",
       "      <th>total_bedrooms</th>\n",
       "      <th>population</th>\n",
       "      <th>households</th>\n",
       "      <th>median_income</th>\n",
       "      <th>ocean_proximity</th>\n",
       "      <th>median_house_value</th>\n",
       "      <th>los_angeles_dist</th>\n",
       "      <th>san_francisco_dist</th>\n",
       "    </tr>\n",
       "  </thead>\n",
       "  <tbody>\n",
       "    <tr>\n",
       "      <th>0</th>\n",
       "      <td>-122.23</td>\n",
       "      <td>37.88</td>\n",
       "      <td>41</td>\n",
       "      <td>880</td>\n",
       "      <td>129.0</td>\n",
       "      <td>322</td>\n",
       "      <td>126</td>\n",
       "      <td>8.3252</td>\n",
       "      <td>NEAR BAY</td>\n",
       "      <td>452600</td>\n",
       "      <td>556.544948</td>\n",
       "      <td>20.611281</td>\n",
       "    </tr>\n",
       "    <tr>\n",
       "      <th>1</th>\n",
       "      <td>-122.22</td>\n",
       "      <td>37.86</td>\n",
       "      <td>21</td>\n",
       "      <td>7099</td>\n",
       "      <td>1106.0</td>\n",
       "      <td>2401</td>\n",
       "      <td>1138</td>\n",
       "      <td>8.3014</td>\n",
       "      <td>NEAR BAY</td>\n",
       "      <td>358500</td>\n",
       "      <td>554.295669</td>\n",
       "      <td>20.115667</td>\n",
       "    </tr>\n",
       "    <tr>\n",
       "      <th>2</th>\n",
       "      <td>-122.24</td>\n",
       "      <td>37.85</td>\n",
       "      <td>52</td>\n",
       "      <td>1467</td>\n",
       "      <td>190.0</td>\n",
       "      <td>496</td>\n",
       "      <td>177</td>\n",
       "      <td>7.2574</td>\n",
       "      <td>NEAR BAY</td>\n",
       "      <td>352100</td>\n",
       "      <td>554.626612</td>\n",
       "      <td>18.038918</td>\n",
       "    </tr>\n",
       "    <tr>\n",
       "      <th>3</th>\n",
       "      <td>-122.25</td>\n",
       "      <td>37.85</td>\n",
       "      <td>52</td>\n",
       "      <td>1274</td>\n",
       "      <td>235.0</td>\n",
       "      <td>558</td>\n",
       "      <td>219</td>\n",
       "      <td>5.6431</td>\n",
       "      <td>NEAR BAY</td>\n",
       "      <td>341300</td>\n",
       "      <td>555.210185</td>\n",
       "      <td>17.283751</td>\n",
       "    </tr>\n",
       "    <tr>\n",
       "      <th>4</th>\n",
       "      <td>-122.25</td>\n",
       "      <td>37.85</td>\n",
       "      <td>52</td>\n",
       "      <td>1627</td>\n",
       "      <td>280.0</td>\n",
       "      <td>565</td>\n",
       "      <td>259</td>\n",
       "      <td>3.8462</td>\n",
       "      <td>NEAR BAY</td>\n",
       "      <td>342200</td>\n",
       "      <td>555.210185</td>\n",
       "      <td>17.283751</td>\n",
       "    </tr>\n",
       "  </tbody>\n",
       "</table>\n",
       "</div>"
      ],
      "text/plain": [
       "   longitude  latitude  housing_median_age  total_rooms  total_bedrooms   \n",
       "0    -122.23     37.88                  41          880           129.0  \\\n",
       "1    -122.22     37.86                  21         7099          1106.0   \n",
       "2    -122.24     37.85                  52         1467           190.0   \n",
       "3    -122.25     37.85                  52         1274           235.0   \n",
       "4    -122.25     37.85                  52         1627           280.0   \n",
       "\n",
       "   population  households  median_income ocean_proximity  median_house_value   \n",
       "0         322         126         8.3252        NEAR BAY              452600  \\\n",
       "1        2401        1138         8.3014        NEAR BAY              358500   \n",
       "2         496         177         7.2574        NEAR BAY              352100   \n",
       "3         558         219         5.6431        NEAR BAY              341300   \n",
       "4         565         259         3.8462        NEAR BAY              342200   \n",
       "\n",
       "   los_angeles_dist  san_francisco_dist  \n",
       "0        556.544948           20.611281  \n",
       "1        554.295669           20.115667  \n",
       "2        554.626612           18.038918  \n",
       "3        555.210185           17.283751  \n",
       "4        555.210185           17.283751  "
      ]
     },
     "execution_count": 111,
     "metadata": {},
     "output_type": "execute_result"
    }
   ],
   "source": [
    "df.head()"
   ]
  },
  {
   "cell_type": "code",
   "execution_count": 112,
   "metadata": {},
   "outputs": [
    {
     "data": {
      "text/html": [
       "<div>\n",
       "<style scoped>\n",
       "    .dataframe tbody tr th:only-of-type {\n",
       "        vertical-align: middle;\n",
       "    }\n",
       "\n",
       "    .dataframe tbody tr th {\n",
       "        vertical-align: top;\n",
       "    }\n",
       "\n",
       "    .dataframe thead th {\n",
       "        text-align: right;\n",
       "    }\n",
       "</style>\n",
       "<table border=\"1\" class=\"dataframe\">\n",
       "  <thead>\n",
       "    <tr style=\"text-align: right;\">\n",
       "      <th></th>\n",
       "      <th>&lt;1H OCEAN</th>\n",
       "      <th>INLAND</th>\n",
       "      <th>ISLAND</th>\n",
       "      <th>NEAR BAY</th>\n",
       "      <th>NEAR OCEAN</th>\n",
       "    </tr>\n",
       "  </thead>\n",
       "  <tbody>\n",
       "    <tr>\n",
       "      <th>0</th>\n",
       "      <td>0</td>\n",
       "      <td>0</td>\n",
       "      <td>0</td>\n",
       "      <td>1</td>\n",
       "      <td>0</td>\n",
       "    </tr>\n",
       "    <tr>\n",
       "      <th>1</th>\n",
       "      <td>0</td>\n",
       "      <td>0</td>\n",
       "      <td>0</td>\n",
       "      <td>1</td>\n",
       "      <td>0</td>\n",
       "    </tr>\n",
       "    <tr>\n",
       "      <th>2</th>\n",
       "      <td>0</td>\n",
       "      <td>0</td>\n",
       "      <td>0</td>\n",
       "      <td>1</td>\n",
       "      <td>0</td>\n",
       "    </tr>\n",
       "  </tbody>\n",
       "</table>\n",
       "</div>"
      ],
      "text/plain": [
       "   <1H OCEAN  INLAND  ISLAND  NEAR BAY  NEAR OCEAN\n",
       "0          0       0       0         1           0\n",
       "1          0       0       0         1           0\n",
       "2          0       0       0         1           0"
      ]
     },
     "execution_count": 112,
     "metadata": {},
     "output_type": "execute_result"
    }
   ],
   "source": [
    "ocean = pd.get_dummies(df['ocean_proximity']).astype(int)\n",
    "ocean.head(3)"
   ]
  },
  {
   "cell_type": "code",
   "execution_count": 113,
   "metadata": {},
   "outputs": [],
   "source": [
    "df = pd.concat((df, ocean), axis=1)"
   ]
  },
  {
   "cell_type": "code",
   "execution_count": 114,
   "metadata": {},
   "outputs": [],
   "source": [
    "df.drop(columns=[\"longitude\", \"latitude\", \"ocean_proximity\"], inplace=True)"
   ]
  },
  {
   "cell_type": "code",
   "execution_count": 115,
   "metadata": {},
   "outputs": [
    {
     "data": {
      "text/html": [
       "<div>\n",
       "<style scoped>\n",
       "    .dataframe tbody tr th:only-of-type {\n",
       "        vertical-align: middle;\n",
       "    }\n",
       "\n",
       "    .dataframe tbody tr th {\n",
       "        vertical-align: top;\n",
       "    }\n",
       "\n",
       "    .dataframe thead th {\n",
       "        text-align: right;\n",
       "    }\n",
       "</style>\n",
       "<table border=\"1\" class=\"dataframe\">\n",
       "  <thead>\n",
       "    <tr style=\"text-align: right;\">\n",
       "      <th></th>\n",
       "      <th>housing_median_age</th>\n",
       "      <th>total_rooms</th>\n",
       "      <th>total_bedrooms</th>\n",
       "      <th>population</th>\n",
       "      <th>households</th>\n",
       "      <th>median_income</th>\n",
       "      <th>median_house_value</th>\n",
       "      <th>los_angeles_dist</th>\n",
       "      <th>san_francisco_dist</th>\n",
       "      <th>&lt;1H OCEAN</th>\n",
       "      <th>INLAND</th>\n",
       "      <th>ISLAND</th>\n",
       "      <th>NEAR BAY</th>\n",
       "      <th>NEAR OCEAN</th>\n",
       "    </tr>\n",
       "  </thead>\n",
       "  <tbody>\n",
       "    <tr>\n",
       "      <th>0</th>\n",
       "      <td>41</td>\n",
       "      <td>880</td>\n",
       "      <td>129.0</td>\n",
       "      <td>322</td>\n",
       "      <td>126</td>\n",
       "      <td>8.3252</td>\n",
       "      <td>452600</td>\n",
       "      <td>556.544948</td>\n",
       "      <td>20.611281</td>\n",
       "      <td>0</td>\n",
       "      <td>0</td>\n",
       "      <td>0</td>\n",
       "      <td>1</td>\n",
       "      <td>0</td>\n",
       "    </tr>\n",
       "    <tr>\n",
       "      <th>1</th>\n",
       "      <td>21</td>\n",
       "      <td>7099</td>\n",
       "      <td>1106.0</td>\n",
       "      <td>2401</td>\n",
       "      <td>1138</td>\n",
       "      <td>8.3014</td>\n",
       "      <td>358500</td>\n",
       "      <td>554.295669</td>\n",
       "      <td>20.115667</td>\n",
       "      <td>0</td>\n",
       "      <td>0</td>\n",
       "      <td>0</td>\n",
       "      <td>1</td>\n",
       "      <td>0</td>\n",
       "    </tr>\n",
       "    <tr>\n",
       "      <th>2</th>\n",
       "      <td>52</td>\n",
       "      <td>1467</td>\n",
       "      <td>190.0</td>\n",
       "      <td>496</td>\n",
       "      <td>177</td>\n",
       "      <td>7.2574</td>\n",
       "      <td>352100</td>\n",
       "      <td>554.626612</td>\n",
       "      <td>18.038918</td>\n",
       "      <td>0</td>\n",
       "      <td>0</td>\n",
       "      <td>0</td>\n",
       "      <td>1</td>\n",
       "      <td>0</td>\n",
       "    </tr>\n",
       "    <tr>\n",
       "      <th>3</th>\n",
       "      <td>52</td>\n",
       "      <td>1274</td>\n",
       "      <td>235.0</td>\n",
       "      <td>558</td>\n",
       "      <td>219</td>\n",
       "      <td>5.6431</td>\n",
       "      <td>341300</td>\n",
       "      <td>555.210185</td>\n",
       "      <td>17.283751</td>\n",
       "      <td>0</td>\n",
       "      <td>0</td>\n",
       "      <td>0</td>\n",
       "      <td>1</td>\n",
       "      <td>0</td>\n",
       "    </tr>\n",
       "    <tr>\n",
       "      <th>4</th>\n",
       "      <td>52</td>\n",
       "      <td>1627</td>\n",
       "      <td>280.0</td>\n",
       "      <td>565</td>\n",
       "      <td>259</td>\n",
       "      <td>3.8462</td>\n",
       "      <td>342200</td>\n",
       "      <td>555.210185</td>\n",
       "      <td>17.283751</td>\n",
       "      <td>0</td>\n",
       "      <td>0</td>\n",
       "      <td>0</td>\n",
       "      <td>1</td>\n",
       "      <td>0</td>\n",
       "    </tr>\n",
       "  </tbody>\n",
       "</table>\n",
       "</div>"
      ],
      "text/plain": [
       "   housing_median_age  total_rooms  total_bedrooms  population  households   \n",
       "0                  41          880           129.0         322         126  \\\n",
       "1                  21         7099          1106.0        2401        1138   \n",
       "2                  52         1467           190.0         496         177   \n",
       "3                  52         1274           235.0         558         219   \n",
       "4                  52         1627           280.0         565         259   \n",
       "\n",
       "   median_income  median_house_value  los_angeles_dist  san_francisco_dist   \n",
       "0         8.3252              452600        556.544948           20.611281  \\\n",
       "1         8.3014              358500        554.295669           20.115667   \n",
       "2         7.2574              352100        554.626612           18.038918   \n",
       "3         5.6431              341300        555.210185           17.283751   \n",
       "4         3.8462              342200        555.210185           17.283751   \n",
       "\n",
       "   <1H OCEAN  INLAND  ISLAND  NEAR BAY  NEAR OCEAN  \n",
       "0          0       0       0         1           0  \n",
       "1          0       0       0         1           0  \n",
       "2          0       0       0         1           0  \n",
       "3          0       0       0         1           0  \n",
       "4          0       0       0         1           0  "
      ]
     },
     "execution_count": 115,
     "metadata": {},
     "output_type": "execute_result"
    }
   ],
   "source": [
    "df.head(5)"
   ]
  },
  {
   "cell_type": "code",
   "execution_count": 116,
   "metadata": {},
   "outputs": [],
   "source": [
    "train_df = df.sample(frac=0.8,random_state=200)\n",
    "test_df = df.drop(train_df.index)"
   ]
  },
  {
   "attachments": {},
   "cell_type": "markdown",
   "metadata": {},
   "source": [
    "Обучаем модельку"
   ]
  },
  {
   "cell_type": "code",
   "execution_count": 117,
   "metadata": {},
   "outputs": [],
   "source": [
    "from sklearn.linear_model import LinearRegression\n",
    "from sklearn import preprocessing"
   ]
  },
  {
   "cell_type": "code",
   "execution_count": 118,
   "metadata": {},
   "outputs": [],
   "source": [
    "X = train_df.drop(columns=[\"median_house_value\"])\n",
    "y = train_df.median_house_value\n",
    "\n",
    "X_test = test_df.drop(columns=[\"median_house_value\"])\n",
    "y_test = test_df.median_house_value"
   ]
  },
  {
   "cell_type": "code",
   "execution_count": 119,
   "metadata": {},
   "outputs": [],
   "source": [
    "reg = LinearRegression().fit(X, y)"
   ]
  },
  {
   "cell_type": "code",
   "execution_count": 120,
   "metadata": {},
   "outputs": [
    {
     "data": {
      "text/plain": [
       "0.6498506344865067"
      ]
     },
     "execution_count": 120,
     "metadata": {},
     "output_type": "execute_result"
    }
   ],
   "source": [
    "reg.score(X, y)"
   ]
  },
  {
   "cell_type": "code",
   "execution_count": 121,
   "metadata": {},
   "outputs": [
    {
     "data": {
      "text/plain": [
       "array([ 9.21301409e+02, -4.90475377e+00,  8.25945568e+01, -3.84905411e+01,\n",
       "        6.37045476e+01,  3.86908359e+04, -1.15028677e+02, -1.17417577e+02,\n",
       "       -3.46062373e+04, -9.79056567e+04,  1.76224795e+05, -3.54587793e+04,\n",
       "       -8.25412171e+03])"
      ]
     },
     "execution_count": 121,
     "metadata": {},
     "output_type": "execute_result"
    }
   ],
   "source": [
    "reg.coef_"
   ]
  },
  {
   "attachments": {},
   "cell_type": "markdown",
   "metadata": {},
   "source": [
    "Посчитаем метрики"
   ]
  },
  {
   "cell_type": "code",
   "execution_count": 122,
   "metadata": {},
   "outputs": [],
   "source": [
    "from sklearn.metrics import mean_squared_error"
   ]
  },
  {
   "cell_type": "code",
   "execution_count": 123,
   "metadata": {},
   "outputs": [],
   "source": [
    "y_pred = reg.predict(X_test)"
   ]
  },
  {
   "cell_type": "code",
   "execution_count": 124,
   "metadata": {},
   "outputs": [
    {
     "data": {
      "text/plain": [
       "67556.50257371225"
      ]
     },
     "execution_count": 124,
     "metadata": {},
     "output_type": "execute_result"
    }
   ],
   "source": [
    "mean_squared_error(y_test, y_pred, squared=False)"
   ]
  },
  {
   "cell_type": "code",
   "execution_count": 125,
   "metadata": {},
   "outputs": [],
   "source": [
    "from catboost import CatBoostRegressor"
   ]
  },
  {
   "cell_type": "code",
   "execution_count": 143,
   "metadata": {},
   "outputs": [],
   "source": [
    "model = CatBoostRegressor(iterations=10000,  # Количество итераций\n",
    "                          learning_rate=0.1,  # Скорость обучения\n",
    "                          depth=4,  # Глубина дерева\n",
    "                          random_state=42)  # Задаем случайное начальное состояние для воспроизводимости"
   ]
  },
  {
   "cell_type": "code",
   "execution_count": 144,
   "metadata": {},
   "outputs": [
    {
     "name": "stdout",
     "output_type": "stream",
     "text": [
      "0:\tlearn: 109512.7233409\ttotal: 1.47ms\tremaining: 14.7s\n",
      "100:\tlearn: 56109.8396828\ttotal: 121ms\tremaining: 11.9s\n",
      "200:\tlearn: 51397.7924130\ttotal: 242ms\tremaining: 11.8s\n",
      "300:\tlearn: 48851.8497163\ttotal: 361ms\tremaining: 11.6s\n",
      "400:\tlearn: 47064.2538699\ttotal: 467ms\tremaining: 11.2s\n",
      "500:\tlearn: 45653.8993745\ttotal: 577ms\tremaining: 10.9s\n",
      "600:\tlearn: 44486.4203162\ttotal: 677ms\tremaining: 10.6s\n",
      "700:\tlearn: 43514.7408030\ttotal: 786ms\tremaining: 10.4s\n",
      "800:\tlearn: 42693.2093095\ttotal: 937ms\tremaining: 10.8s\n",
      "900:\tlearn: 41909.4285385\ttotal: 1.05s\tremaining: 10.6s\n",
      "1000:\tlearn: 41195.6998513\ttotal: 1.15s\tremaining: 10.3s\n",
      "1100:\tlearn: 40537.3861430\ttotal: 1.26s\tremaining: 10.2s\n",
      "1200:\tlearn: 39910.2965926\ttotal: 1.36s\tremaining: 10s\n",
      "1300:\tlearn: 39315.3412863\ttotal: 1.47s\tremaining: 9.86s\n",
      "1400:\tlearn: 38781.6043440\ttotal: 1.58s\tremaining: 9.69s\n",
      "1500:\tlearn: 38232.3722227\ttotal: 1.68s\tremaining: 9.54s\n",
      "1600:\tlearn: 37746.9099237\ttotal: 1.79s\tremaining: 9.38s\n",
      "1700:\tlearn: 37286.0354612\ttotal: 1.9s\tremaining: 9.25s\n",
      "1800:\tlearn: 36809.3881919\ttotal: 2s\tremaining: 9.11s\n",
      "1900:\tlearn: 36342.2754707\ttotal: 2.11s\tremaining: 8.99s\n",
      "2000:\tlearn: 35935.5496779\ttotal: 2.21s\tremaining: 8.84s\n",
      "2100:\tlearn: 35555.3096882\ttotal: 2.33s\tremaining: 8.76s\n",
      "2200:\tlearn: 35176.9567446\ttotal: 2.48s\tremaining: 8.79s\n",
      "2300:\tlearn: 34802.7295400\ttotal: 2.63s\tremaining: 8.78s\n",
      "2400:\tlearn: 34448.5064612\ttotal: 2.82s\tremaining: 8.91s\n",
      "2500:\tlearn: 34088.5111105\ttotal: 3.02s\tremaining: 9.06s\n",
      "2600:\tlearn: 33748.7192709\ttotal: 3.21s\tremaining: 9.13s\n",
      "2700:\tlearn: 33411.5864565\ttotal: 3.37s\tremaining: 9.1s\n",
      "2800:\tlearn: 33116.3668669\ttotal: 3.52s\tremaining: 9.05s\n",
      "2900:\tlearn: 32804.5188346\ttotal: 3.69s\tremaining: 9.04s\n",
      "3000:\tlearn: 32492.7917109\ttotal: 3.84s\tremaining: 8.96s\n",
      "3100:\tlearn: 32185.5316784\ttotal: 4s\tremaining: 8.9s\n",
      "3200:\tlearn: 31906.0167611\ttotal: 4.15s\tremaining: 8.81s\n",
      "3300:\tlearn: 31629.2029688\ttotal: 4.3s\tremaining: 8.73s\n",
      "3400:\tlearn: 31378.1848422\ttotal: 4.45s\tremaining: 8.63s\n",
      "3500:\tlearn: 31118.1281036\ttotal: 4.6s\tremaining: 8.53s\n",
      "3600:\tlearn: 30857.7306195\ttotal: 4.74s\tremaining: 8.43s\n",
      "3700:\tlearn: 30591.8863296\ttotal: 4.89s\tremaining: 8.33s\n",
      "3800:\tlearn: 30356.2023197\ttotal: 5.04s\tremaining: 8.22s\n",
      "3900:\tlearn: 30108.0919093\ttotal: 5.19s\tremaining: 8.12s\n",
      "4000:\tlearn: 29859.6818778\ttotal: 5.34s\tremaining: 8.01s\n",
      "4100:\tlearn: 29619.8274386\ttotal: 5.5s\tremaining: 7.91s\n",
      "4200:\tlearn: 29391.0316604\ttotal: 5.65s\tremaining: 7.79s\n",
      "4300:\tlearn: 29164.8768779\ttotal: 5.8s\tremaining: 7.68s\n",
      "4400:\tlearn: 28941.5723351\ttotal: 5.94s\tremaining: 7.56s\n",
      "4500:\tlearn: 28729.6153562\ttotal: 6.09s\tremaining: 7.45s\n",
      "4600:\tlearn: 28513.0978005\ttotal: 6.24s\tremaining: 7.32s\n",
      "4700:\tlearn: 28305.2653868\ttotal: 6.36s\tremaining: 7.17s\n",
      "4800:\tlearn: 28094.0757369\ttotal: 6.47s\tremaining: 7.01s\n",
      "4900:\tlearn: 27886.9648717\ttotal: 6.59s\tremaining: 6.86s\n",
      "5000:\tlearn: 27697.1612480\ttotal: 6.71s\tremaining: 6.71s\n",
      "5100:\tlearn: 27501.8973108\ttotal: 6.83s\tremaining: 6.56s\n",
      "5200:\tlearn: 27313.5056857\ttotal: 6.95s\tremaining: 6.41s\n",
      "5300:\tlearn: 27133.8085019\ttotal: 7.07s\tremaining: 6.26s\n",
      "5400:\tlearn: 26946.8229224\ttotal: 7.18s\tremaining: 6.12s\n",
      "5500:\tlearn: 26769.1835219\ttotal: 7.3s\tremaining: 5.97s\n",
      "5600:\tlearn: 26595.7707641\ttotal: 7.42s\tremaining: 5.83s\n",
      "5700:\tlearn: 26436.1402002\ttotal: 7.54s\tremaining: 5.69s\n",
      "5800:\tlearn: 26260.2425115\ttotal: 7.66s\tremaining: 5.55s\n",
      "5900:\tlearn: 26111.8370508\ttotal: 7.78s\tremaining: 5.41s\n",
      "6000:\tlearn: 25957.6680317\ttotal: 7.91s\tremaining: 5.27s\n",
      "6100:\tlearn: 25786.7783405\ttotal: 8.03s\tremaining: 5.13s\n",
      "6200:\tlearn: 25622.8852412\ttotal: 8.15s\tremaining: 4.99s\n",
      "6300:\tlearn: 25472.8506350\ttotal: 8.27s\tremaining: 4.86s\n",
      "6400:\tlearn: 25310.7066655\ttotal: 8.39s\tremaining: 4.72s\n",
      "6500:\tlearn: 25146.8972631\ttotal: 8.51s\tremaining: 4.58s\n",
      "6600:\tlearn: 25004.5177772\ttotal: 8.63s\tremaining: 4.45s\n",
      "6700:\tlearn: 24866.2096967\ttotal: 8.76s\tremaining: 4.31s\n",
      "6800:\tlearn: 24721.4062838\ttotal: 8.88s\tremaining: 4.18s\n",
      "6900:\tlearn: 24560.1445797\ttotal: 9s\tremaining: 4.04s\n",
      "7000:\tlearn: 24398.2357726\ttotal: 9.12s\tremaining: 3.91s\n",
      "7100:\tlearn: 24260.7787160\ttotal: 9.24s\tremaining: 3.77s\n",
      "7200:\tlearn: 24123.3223201\ttotal: 9.36s\tremaining: 3.64s\n",
      "7300:\tlearn: 23989.1119834\ttotal: 9.53s\tremaining: 3.52s\n",
      "7400:\tlearn: 23857.9382327\ttotal: 9.67s\tremaining: 3.4s\n",
      "7500:\tlearn: 23728.5616653\ttotal: 9.8s\tremaining: 3.26s\n",
      "7600:\tlearn: 23589.9344394\ttotal: 9.92s\tremaining: 3.13s\n",
      "7700:\tlearn: 23461.1640810\ttotal: 10s\tremaining: 3s\n",
      "7800:\tlearn: 23325.7194170\ttotal: 10.2s\tremaining: 2.87s\n",
      "7900:\tlearn: 23198.6892120\ttotal: 10.3s\tremaining: 2.73s\n",
      "8000:\tlearn: 23068.7607570\ttotal: 10.4s\tremaining: 2.6s\n",
      "8100:\tlearn: 22950.8740706\ttotal: 10.5s\tremaining: 2.47s\n",
      "8200:\tlearn: 22819.0418389\ttotal: 10.7s\tremaining: 2.34s\n",
      "8300:\tlearn: 22683.5875460\ttotal: 10.8s\tremaining: 2.2s\n",
      "8400:\tlearn: 22564.6253201\ttotal: 10.9s\tremaining: 2.07s\n",
      "8500:\tlearn: 22441.8909650\ttotal: 11s\tremaining: 1.94s\n",
      "8600:\tlearn: 22334.8487734\ttotal: 11.1s\tremaining: 1.81s\n",
      "8700:\tlearn: 22213.9007959\ttotal: 11.3s\tremaining: 1.68s\n",
      "8800:\tlearn: 22101.1904412\ttotal: 11.4s\tremaining: 1.55s\n",
      "8900:\tlearn: 21971.2499861\ttotal: 11.5s\tremaining: 1.42s\n",
      "9000:\tlearn: 21855.0552944\ttotal: 11.6s\tremaining: 1.29s\n",
      "9100:\tlearn: 21727.2166285\ttotal: 11.8s\tremaining: 1.16s\n",
      "9200:\tlearn: 21615.7102848\ttotal: 11.9s\tremaining: 1.04s\n",
      "9300:\tlearn: 21496.4706167\ttotal: 12.1s\tremaining: 909ms\n",
      "9400:\tlearn: 21371.4728558\ttotal: 12.2s\tremaining: 780ms\n",
      "9500:\tlearn: 21263.0061799\ttotal: 12.4s\tremaining: 651ms\n",
      "9600:\tlearn: 21156.8281412\ttotal: 12.6s\tremaining: 522ms\n",
      "9700:\tlearn: 21048.2668843\ttotal: 12.7s\tremaining: 392ms\n",
      "9800:\tlearn: 20948.4191570\ttotal: 12.9s\tremaining: 261ms\n",
      "9900:\tlearn: 20860.6342613\ttotal: 13s\tremaining: 130ms\n",
      "9999:\tlearn: 20769.2128401\ttotal: 13.2s\tremaining: 0us\n"
     ]
    },
    {
     "data": {
      "text/plain": [
       "<catboost.core.CatBoostRegressor at 0x7f059bd86560>"
      ]
     },
     "execution_count": 144,
     "metadata": {},
     "output_type": "execute_result"
    }
   ],
   "source": [
    "model.fit(X, y, verbose=100)"
   ]
  },
  {
   "cell_type": "code",
   "execution_count": 145,
   "metadata": {},
   "outputs": [],
   "source": [
    "y_pred = model.predict(X)"
   ]
  },
  {
   "cell_type": "code",
   "execution_count": 146,
   "metadata": {},
   "outputs": [
    {
     "data": {
      "text/plain": [
       "20769.21284009507"
      ]
     },
     "execution_count": 146,
     "metadata": {},
     "output_type": "execute_result"
    }
   ],
   "source": [
    "mse = np.mean((y - y_pred) ** 2)  # Среднеквадратичная ошибка\n",
    "mse ** 0.5"
   ]
  },
  {
   "cell_type": "code",
   "execution_count": 147,
   "metadata": {},
   "outputs": [],
   "source": [
    "y_pref = model.predict(X_test)"
   ]
  },
  {
   "cell_type": "code",
   "execution_count": 148,
   "metadata": {},
   "outputs": [
    {
     "data": {
      "text/plain": [
       "49318.95116212646"
      ]
     },
     "execution_count": 148,
     "metadata": {},
     "output_type": "execute_result"
    }
   ],
   "source": [
    "mse = np.mean((y_test - y_pref) ** 2)  # Среднеквадратичная ошибка\n",
    "mse ** 0.5"
   ]
  },
  {
   "cell_type": "code",
   "execution_count": 149,
   "metadata": {},
   "outputs": [
    {
     "data": {
      "text/plain": [
       "(4087, 16346)"
      ]
     },
     "execution_count": 149,
     "metadata": {},
     "output_type": "execute_result"
    }
   ],
   "source": [
    "len(X_test), len(X)"
   ]
  }
 ],
 "metadata": {
  "kernelspec": {
   "display_name": "venv",
   "language": "python",
   "name": "python3"
  },
  "language_info": {
   "codemirror_mode": {
    "name": "ipython",
    "version": 3
   },
   "file_extension": ".py",
   "mimetype": "text/x-python",
   "name": "python",
   "nbconvert_exporter": "python",
   "pygments_lexer": "ipython3",
   "version": "3.10.10"
  },
  "orig_nbformat": 4
 },
 "nbformat": 4,
 "nbformat_minor": 2
}
